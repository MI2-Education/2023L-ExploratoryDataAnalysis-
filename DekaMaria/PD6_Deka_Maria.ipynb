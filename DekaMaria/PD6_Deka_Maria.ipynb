{
 "cells": [
  {
   "cell_type": "markdown",
   "metadata": {},
   "source": [
    "# Praca domowa 6"
   ]
  },
  {
   "cell_type": "markdown",
   "metadata": {},
   "source": [
    "## Zadanie 1\n"
   ]
  },
  {
   "cell_type": "code",
   "execution_count": 2,
   "metadata": {},
   "outputs": [],
   "source": [
    "import pandas as pd\n",
    "import numpy as np\n",
    "import matplotlib.pyplot as plt\n",
    "\n",
    "df = pd.read_csv(\"house_data.csv\")"
   ]
  },
  {
   "cell_type": "markdown",
   "metadata": {},
   "source": [
    "1. Jaka jest średnia cena nieruchomości położonych nad wodą, których jakoś wykończenia jest równa lub większa od mediany jakości wykończenia?\n"
   ]
  },
  {
   "cell_type": "code",
   "execution_count": 28,
   "metadata": {},
   "outputs": [
    {
     "data": {
      "text/plain": [
       "2302236.3095238097"
      ]
     },
     "execution_count": 28,
     "metadata": {},
     "output_type": "execute_result"
    }
   ],
   "source": [
    "nad_woda = df.query('waterfront == 1')\n",
    "a = nad_woda['grade'].median()\n",
    "nad_woda.query('grade >= @a')['price'].mean()\n"
   ]
  },
  {
   "cell_type": "markdown",
   "metadata": {},
   "source": [
    "Odp:"
   ]
  },
  {
   "cell_type": "markdown",
   "metadata": {},
   "source": [
    "2. Czy nieruchomości o 2 piętrach mają większą (w oparciu o wartości mediany) liczbę łazienek niż nieruchomości o 3 piętrach?\n"
   ]
  },
  {
   "cell_type": "code",
   "execution_count": 33,
   "metadata": {},
   "outputs": [
    {
     "data": {
      "text/plain": [
       "True"
      ]
     },
     "execution_count": 33,
     "metadata": {},
     "output_type": "execute_result"
    }
   ],
   "source": [
    "dwa_pietra = df.query('floors == 2')['bathrooms'].mean()\n",
    "trzy_pietra = df.query('floors == 3')['bathrooms'].mean()\n",
    "dwa_pietra > trzy_pietra"
   ]
  },
  {
   "cell_type": "markdown",
   "metadata": {},
   "source": [
    "Odp:"
   ]
  },
  {
   "cell_type": "markdown",
   "metadata": {},
   "source": [
    "3. Jak wygląda wartość kwartyla 0.25 oraz 0.75 jakości wykończenia nieruchomości położonych na północy biorąc pod uwagę czy ma ona widok na wodę czy nie ma?"
   ]
  },
  {
   "cell_type": "code",
   "execution_count": 75,
   "metadata": {},
   "outputs": [
    {
     "name": "stdout",
     "output_type": "stream",
     "text": [
      "Kwantyl 0.25 dla nieruchomości z widokiem na wodę: 8.0\n",
      "Kwantyl 0.75 dla nieruchomości z widokiem na wodę: 11.0\n",
      "Kwantyl 0.25 dla nieruchomości bez widoku na wodę: 7.0\n",
      "Kwantyl 0.75 dla nieruchomości bez widoku na wodę: 8.0\n"
     ]
    }
   ],
   "source": [
    "srednia_szerokosc = df['lat'].mean()\n",
    "polnocne_nieruchomosci = df.query('lat > @srednia_szerokosc')\n",
    "woda = polnocne_nieruchomosci.query('waterfront == 1')\n",
    "bez_wody = polnocne_nieruchomosci.query('waterfront == 0')\n",
    "q25_woda = woda['grade'].quantile(0.25)\n",
    "q75_woda = woda['grade'].quantile(0.75)\n",
    "q25_bez_wody = bez_wody['grade'].quantile(0.25)\n",
    "q75_bez_wody = bez_wody['grade'].quantile(0.75)\n",
    "print(\"Kwantyl 0.25 dla nieruchomości z widokiem na wodę:\", q25_woda)\n",
    "print(\"Kwantyl 0.75 dla nieruchomości z widokiem na wodę:\", q75_woda)\n",
    "print(\"Kwantyl 0.25 dla nieruchomości bez widoku na wodę:\", q25_bez_wody)\n",
    "print(\"Kwantyl 0.75 dla nieruchomości bez widoku na wodę:\", q75_bez_wody)"
   ]
  },
  {
   "cell_type": "markdown",
   "metadata": {},
   "source": [
    "Odp:"
   ]
  },
  {
   "cell_type": "markdown",
   "metadata": {},
   "source": [
    "4. Pod którym kodem pocztowy jest położonych najwięcej nieruchomości i jaki jest rozstęp miedzykwartylowy dla ceny nieruchomości położonych pod tym adresem?"
   ]
  },
  {
   "cell_type": "code",
   "execution_count": 44,
   "metadata": {},
   "outputs": [
    {
     "name": "stdout",
     "output_type": "stream",
     "text": [
      "kod pocztowy, pod ktorym znajduje się najwięcej nieruchomości: 98103\n",
      "IQR: 262875.0\n"
     ]
    }
   ],
   "source": [
    "licznik = df.groupby(by='zipcode').count()\n",
    "najwiecej_nieruchomosci = licznik['id'].idxmax()\n",
    "print(\"kod pocztowy, pod ktorym znajduje się najwięcej nieruchomości:\", najwiecej_nieruchomosci)\n",
    "IQR = df.query('zipcode == @najwiecej_nieruchomosci')['price'].quantile(0.75) - df.query('zipcode == @najwiecej_nieruchomosci')['price'].quantile(0.25)\n",
    "print(\"IQR:\", IQR)"
   ]
  },
  {
   "cell_type": "markdown",
   "metadata": {},
   "source": [
    "Odp:"
   ]
  },
  {
   "cell_type": "markdown",
   "metadata": {},
   "source": [
    "5. Ile procent nieruchomości ma wyższą średnią powierzchnię 15 najbliższych sąsiadów względem swojej powierzchni?"
   ]
  },
  {
   "cell_type": "code",
   "execution_count": 51,
   "metadata": {},
   "outputs": [
    {
     "data": {
      "text/plain": [
       "39.78161291815111"
      ]
     },
     "execution_count": 51,
     "metadata": {},
     "output_type": "execute_result"
    }
   ],
   "source": [
    "(df.query('sqft_lot15 < sqft_lot').shape[0] / df.shape[0]) * 100"
   ]
  },
  {
   "cell_type": "markdown",
   "metadata": {},
   "source": [
    "Odp:"
   ]
  },
  {
   "cell_type": "markdown",
   "metadata": {},
   "source": [
    " 6. O ile procent więcej jest nieruchomości leżcych na północy zachód niż  nieruchomości leżących na południowy wschód?"
   ]
  },
  {
   "cell_type": "code",
   "execution_count": 78,
   "metadata": {},
   "outputs": [
    {
     "data": {
      "text/plain": [
       "29.665974712209852"
      ]
     },
     "execution_count": 78,
     "metadata": {},
     "output_type": "execute_result"
    }
   ],
   "source": [
    "srednia_szerokosc = df['lat'].mean()\n",
    "srednia_dlugosc = df['long'].mean()\n",
    "polnocny_zachod = df.query('lat > @srednia_szerokosc and long < @srednia_dlugosc')\n",
    "poludniowy_wschod = df.query('lat < @srednia_szerokosc and long > @srednia_dlugosc')\n",
    "roznica = len(polnocny_zachod) - len(poludniowy_wschod)\n",
    "procentowa_roznica = (roznica / len(poludniowy_wschod)) * 100\n",
    "procentowa_roznica"
   ]
  },
  {
   "cell_type": "markdown",
   "metadata": {},
   "source": [
    "Odp:"
   ]
  },
  {
   "cell_type": "markdown",
   "metadata": {},
   "source": [
    "# Zadanie 2"
   ]
  },
  {
   "cell_type": "markdown",
   "metadata": {},
   "source": [
    "Dla wybranej zmiennej ze zbioru danych z Zadania 1 narysuj:\n",
    "\n",
    "a) rozkład zmiennej jakościowej\n",
    "\n",
    "b) rozkład zmiennej ilościowej\n",
    "\n",
    "c) rozkład dwóch zmiennych (dowolna kombinacja jakościowej i ilościowej)"
   ]
  },
  {
   "cell_type": "markdown",
   "metadata": {},
   "source": [
    "a)"
   ]
  },
  {
   "cell_type": "code",
   "execution_count": 55,
   "metadata": {
    "vscode": {
     "languageId": "plaintext"
    }
   },
   "outputs": [
    {
     "data": {
      "text/plain": [
       "Text(0.5, 1.0, 'Rozkład ocen')"
      ]
     },
     "execution_count": 55,
     "metadata": {},
     "output_type": "execute_result"
    },
    {
     "data": {
      "image/png": "[encoded data removed]",
      "text/plain": [
       "<Figure size 432x288 with 1 Axes>"
      ]
     },
     "metadata": {
      "needs_background": "light"
     },
     "output_type": "display_data"
    }
   ],
   "source": [
    "counts = df['grade'].value_counts()\n",
    "counts.plot(kind = 'bar')\n",
    "plt.xlabel('Ocena')\n",
    "plt.ylabel('Liczba')\n",
    "plt.title('Rozkład ocen')"
   ]
  },
  {
   "cell_type": "markdown",
   "metadata": {},
   "source": [
    "b)"
   ]
  },
  {
   "cell_type": "code",
   "execution_count": 64,
   "metadata": {
    "vscode": {
     "languageId": "plaintext"
    }
   },
   "outputs": [
    {
     "data": {
      "text/plain": [
       "Text(0.5, 1.0, 'ilość łazienek w nieruchomościach')"
      ]
     },
     "execution_count": 64,
     "metadata": {},
     "output_type": "execute_result"
    },
    {
     "data": {
      "image/png": "[encoded data removed]",
      "text/plain": [
       "<Figure size 432x288 with 1 Axes>"
      ]
     },
     "metadata": {
      "needs_background": "light"
     },
     "output_type": "display_data"
    }
   ],
   "source": [
    "df['bathrooms'].plot(kind = 'bar')\n",
    "plt.xlabel('ilość łazienek')\n",
    "plt.ylabel('Liczba')\n",
    "plt.title('ilość łazienek w nieruchomościach')"
   ]
  },
  {
   "cell_type": "markdown",
   "metadata": {},
   "source": [
    "c)"
   ]
  },
  {
   "cell_type": "code",
   "execution_count": null,
   "metadata": {
    "vscode": {
     "languageId": "plaintext"
    }
   },
   "outputs": [],
   "source": []
  }
 ],
 "metadata": {
  "kernelspec": {
   "display_name": "Python 3 (ipykernel)",
   "language": "python",
   "name": "python3"
  },
  "language_info": {
   "codemirror_mode": {
    "name": "ipython",
    "version": 3
   },
   "file_extension": ".py",
   "mimetype": "text/x-python",
   "name": "python",
   "nbconvert_exporter": "python",
   "pygments_lexer": "ipython3",
   "version": "3.9.7"
  }
 },
 "nbformat": 4,
 "nbformat_minor": 2
}
